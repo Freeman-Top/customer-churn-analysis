{
 "cells": [
  {
   "cell_type": "code",
   "execution_count": 1,
   "id": "a5550d97",
   "metadata": {},
   "outputs": [],
   "source": [
    "import pandas as pd\n",
    "import numpy as np\n",
    "import matplotlib.pyplot as plt\n",
    "import seaborn as sns\n",
    "from sklearn.model_selection import train_test_split\n",
    "from sklearn.preprocessing import LabelEncoder, StandardScaler\n",
    "from sklearn.ensemble import RandomForestClassifier\n",
    "from sklearn.metrics import classification_report, confusion_matrix, accuracy_score\n",
    "from sklearn.impute import SimpleImputer\n",
    "\n",
    "\n",
    "Datapath = \"C:\\\\Users\\\\HP\\\\Downloads\\\\archive (1)\\\\\"\n",
    "Datafile = \"customer_churn_telecom_services.csv\"\n",
    "\n",
    "df =  pd.read_csv(Datapath + Datafile)"
   ]
  },
  {
   "cell_type": "code",
   "execution_count": null,
   "id": "977fb4c6",
   "metadata": {},
   "outputs": [
    {
     "name": "stdout",
     "output_type": "stream",
     "text": [
      "Missing values before cleaning:\n"
     ]
    },
    {
     "data": {
      "text/plain": [
       "gender               0\n",
       "SeniorCitizen        0\n",
       "Partner              0\n",
       "Dependents           0\n",
       "tenure               0\n",
       "PhoneService         0\n",
       "MultipleLines        0\n",
       "InternetService      0\n",
       "OnlineSecurity       0\n",
       "OnlineBackup         0\n",
       "DeviceProtection     0\n",
       "TechSupport          0\n",
       "StreamingTV          0\n",
       "StreamingMovies      0\n",
       "Contract             0\n",
       "PaperlessBilling     0\n",
       "PaymentMethod        0\n",
       "MonthlyCharges       0\n",
       "TotalCharges        11\n",
       "Churn                0\n",
       "dtype: int64"
      ]
     },
     "execution_count": 2,
     "metadata": {},
     "output_type": "execute_result"
    }
   ],
   "source": [
    "# Data cleaning\n",
    "# To check for missing values\n",
    "print(\"Missing values before cleaning:\")\n",
    "df.isnull().sum()"
   ]
  },
  {
   "cell_type": "code",
   "execution_count": null,
   "id": "d34f229f",
   "metadata": {},
   "outputs": [],
   "source": [
    "# Handling missing TotalCharges (By replacing empty strings with NaN then impute)\n",
    "df['TotalCharges'] = pd.to_numeric(df['TotalCharges'], errors='coerce')"
   ]
  },
  {
   "cell_type": "code",
   "execution_count": null,
   "id": "6a411e62",
   "metadata": {},
   "outputs": [],
   "source": [
    "# Then impute the missing TotalCharges with median\n",
    "imputer = SimpleImputer(strategy='median')\n",
    "df['TotalCharges'] = imputer.fit_transform(df[['TotalCharges']])\n"
   ]
  },
  {
   "cell_type": "code",
   "execution_count": null,
   "id": "08928698",
   "metadata": {},
   "outputs": [],
   "source": [
    "\n",
    "# Conversion of SeniorCitizen to categorical\n",
    "df['SeniorCitizen'] = df['SeniorCitizen'].map({0: 'No', 1: 'Yes'})\n"
   ]
  },
  {
   "cell_type": "code",
   "execution_count": null,
   "id": "3895d29d",
   "metadata": {},
   "outputs": [],
   "source": [
    "\n",
    "# Conversion tenure to categorical bins\n",
    "df['TenureGroup'] = pd.cut(df['tenure'], bins=[0, 12, 24, 48, 72], labels=['0-1 Year', '1-2 Years', '2-4 Years', '4-6 Years'])\n"
   ]
  },
  {
   "cell_type": "code",
   "execution_count": null,
   "id": "027855c1",
   "metadata": {},
   "outputs": [],
   "source": [
    "\n",
    "# Dropping tenure as we'll use TenureGroup\n",
    "df.drop('tenure', axis=1, inplace=True)"
   ]
  },
  {
   "cell_type": "code",
   "execution_count": null,
   "id": "8a9a58c2",
   "metadata": {},
   "outputs": [
    {
     "name": "stdout",
     "output_type": "stream",
     "text": [
      "\n",
      "Data after cleaning:\n",
      "\n",
      "Data types:\n",
      "gender                object\n",
      "SeniorCitizen         object\n",
      "Partner               object\n",
      "Dependents            object\n",
      "PhoneService          object\n",
      "MultipleLines         object\n",
      "InternetService       object\n",
      "OnlineSecurity        object\n",
      "OnlineBackup          object\n",
      "DeviceProtection      object\n",
      "TechSupport           object\n",
      "StreamingTV           object\n",
      "StreamingMovies       object\n",
      "Contract              object\n",
      "PaperlessBilling      object\n",
      "PaymentMethod         object\n",
      "MonthlyCharges       float64\n",
      "TotalCharges         float64\n",
      "Churn                 object\n",
      "TenureGroup         category\n",
      "dtype: object\n"
     ]
    }
   ],
   "source": [
    "\n",
    "# To check if my data is cleaned\n",
    "print(\"\\nData after cleaning:\")\n",
    "df.head()\n",
    "print(\"\\nData types:\")\n",
    "print(df.dtypes)"
   ]
  }
 ],
 "metadata": {
  "kernelspec": {
   "display_name": "base",
   "language": "python",
   "name": "python3"
  },
  "language_info": {
   "codemirror_mode": {
    "name": "ipython",
    "version": 3
   },
   "file_extension": ".py",
   "mimetype": "text/x-python",
   "name": "python",
   "nbconvert_exporter": "python",
   "pygments_lexer": "ipython3",
   "version": "3.12.7"
  }
 },
 "nbformat": 4,
 "nbformat_minor": 5
}
